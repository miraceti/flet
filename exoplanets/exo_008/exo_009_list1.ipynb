{
 "cells": [
  {
   "cell_type": "code",
   "execution_count": 3,
   "id": "09765dbc-55f9-41e5-b668-da8675e1029b",
   "metadata": {},
   "outputs": [],
   "source": [
    "import pandas"
   ]
  },
  {
   "cell_type": "code",
   "execution_count": 33,
   "id": "85561b30-310a-4be9-aec2-31e5b4b71523",
   "metadata": {},
   "outputs": [],
   "source": [
    "import pandas as pd\n",
    "import flet as ft\n",
    "from urllib.request import urlopen\n",
    "import json\n",
    "import datetime"
   ]
  },
  {
   "cell_type": "code",
   "execution_count": 34,
   "id": "133a35ba-30e4-42b0-9fae-81b7249b2f09",
   "metadata": {},
   "outputs": [
    {
     "name": "stdout",
     "output_type": "stream",
     "text": [
      "https://exoplanetarchive.ipac.caltech.edu/TAP/sync?query=select+count(pl_name)+as+nbe+from+ps+where+default_flag=1&format=json\n",
      "5690\n"
     ]
    }
   ],
   "source": [
    "urlexo1 = \"https://exoplanetarchive.ipac.caltech.edu/TAP/sync?query=select+count(pl_name)+as+nbe+from+ps+where+default_flag=1&format=json\"\n",
    "print(urlexo1)\n",
    "data = json.loads(urlopen(urlexo1).read().decode(\"utf-8\"))\n",
    "# print(data)\n",
    "data0=data[0]\n",
    "# print(data0)\n",
    "nb_exoplanets= data0['nbe']\n",
    "print(nb_exoplanets)"
   ]
  },
  {
   "cell_type": "code",
   "execution_count": 35,
   "id": "3e5e3741-7343-4664-9d0e-24574f4678d8",
   "metadata": {},
   "outputs": [
    {
     "name": "stdout",
     "output_type": "stream",
     "text": [
      "https://exoplanetarchive.ipac.caltech.edu/TAP/sync?query=select+pl_name,hostname,pl_letter,pl_bmasse,pl_bmassj,pl_rade,pl_radj,pl_orbper,pl_dens,pl_trandur,pl_ratror,sy_snum,sy_pnum,sy_mnum,st_mass,st_lum,st_age,st_dens,sy_dist,disc_year,disc_telescope,discoverymethod+from+ps+where+default_flag=1&format=json\n"
     ]
    }
   ],
   "source": [
    "urlexo7 = \"https://exoplanetarchive.ipac.caltech.edu/TAP/sync?query=select+\\\n",
    "pl_name,hostname,pl_letter,pl_bmasse,pl_bmassj,pl_rade,pl_radj,pl_orbper,pl_dens,pl_trandur,pl_ratror,\\\n",
    "sy_snum,sy_pnum,sy_mnum,st_mass,st_lum,st_age,st_dens,sy_dist,disc_year,disc_telescope,discoverymethod\\\n",
    "+from+ps+where+default_flag=1&format=json\"\n",
    "\n",
    "print(urlexo7)\n",
    "list7 = json.loads(urlopen(urlexo7).read().decode(\"utf-8\"))\n",
    "#print(list7)"
   ]
  },
  {
   "cell_type": "code",
   "execution_count": 36,
   "id": "f40b1497-9518-4cc4-b01b-d950f347434c",
   "metadata": {},
   "outputs": [
    {
     "name": "stdout",
     "output_type": "stream",
     "text": [
      "{'pl_name': 'OGLE-TR-10 b', 'hostname': 'OGLE-TR-10', 'pl_letter': 'b', 'pl_bmasse': 197.046, 'pl_bmassj': 0.62, 'pl_rade': 14.011, 'pl_radj': 1.25, 'pl_orbper': 3.101278, 'pl_dens': 0.4, 'pl_trandur': None, 'pl_ratror': None, 'sy_snum': 1, 'sy_pnum': 1, 'sy_mnum': 0, 'st_mass': 1.14, 'st_lum': 0.188, 'st_age': None, 'st_dens': None, 'sy_dist': 1344.97, 'disc_year': 2004, 'disc_telescope': '1.3 m Warsaw University Telescope', 'discoverymethod': 'Transit'}\n"
     ]
    }
   ],
   "source": [
    "print(list7[0])"
   ]
  },
  {
   "cell_type": "code",
   "execution_count": 37,
   "id": "1548119a-698d-47f2-8302-96149a1a63e7",
   "metadata": {},
   "outputs": [
    {
     "data": {
      "text/plain": [
       "5690"
      ]
     },
     "execution_count": 37,
     "metadata": {},
     "output_type": "execute_result"
    }
   ],
   "source": [
    "len(list7)"
   ]
  },
  {
   "cell_type": "code",
   "execution_count": 38,
   "id": "0d0366b2-7aa9-4a7d-95f7-19f7933c9da6",
   "metadata": {},
   "outputs": [
    {
     "data": {
      "text/plain": [
       "{'pl_name': 'OGLE-TR-10 b',\n",
       " 'hostname': 'OGLE-TR-10',\n",
       " 'pl_letter': 'b',\n",
       " 'pl_bmasse': 197.046,\n",
       " 'pl_bmassj': 0.62,\n",
       " 'pl_rade': 14.011,\n",
       " 'pl_radj': 1.25,\n",
       " 'pl_orbper': 3.101278,\n",
       " 'pl_dens': 0.4,\n",
       " 'pl_trandur': None,\n",
       " 'pl_ratror': None,\n",
       " 'sy_snum': 1,\n",
       " 'sy_pnum': 1,\n",
       " 'sy_mnum': 0,\n",
       " 'st_mass': 1.14,\n",
       " 'st_lum': 0.188,\n",
       " 'st_age': None,\n",
       " 'st_dens': None,\n",
       " 'sy_dist': 1344.97,\n",
       " 'disc_year': 2004,\n",
       " 'disc_telescope': '1.3 m Warsaw University Telescope',\n",
       " 'discoverymethod': 'Transit'}"
      ]
     },
     "execution_count": 38,
     "metadata": {},
     "output_type": "execute_result"
    }
   ],
   "source": [
    "list7[0]"
   ]
  },
  {
   "cell_type": "code",
   "execution_count": 39,
   "id": "7e9c866b-a339-43a7-8739-020ba5f80f28",
   "metadata": {},
   "outputs": [
    {
     "data": {
      "text/plain": [
       "dict_keys(['pl_name', 'hostname', 'pl_letter', 'pl_bmasse', 'pl_bmassj', 'pl_rade', 'pl_radj', 'pl_orbper', 'pl_dens', 'pl_trandur', 'pl_ratror', 'sy_snum', 'sy_pnum', 'sy_mnum', 'st_mass', 'st_lum', 'st_age', 'st_dens', 'sy_dist', 'disc_year', 'disc_telescope', 'discoverymethod'])"
      ]
     },
     "execution_count": 39,
     "metadata": {},
     "output_type": "execute_result"
    }
   ],
   "source": [
    "list7[0].keys()"
   ]
  },
  {
   "cell_type": "code",
   "execution_count": 40,
   "id": "72e31e82-bed0-4f6b-b7a6-0536bcfe7895",
   "metadata": {},
   "outputs": [
    {
     "data": {
      "text/plain": [
       "dict_values(['OGLE-TR-10 b', 'OGLE-TR-10', 'b', 197.046, 0.62, 14.011, 1.25, 3.101278, 0.4, None, None, 1, 1, 0, 1.14, 0.188, None, None, 1344.97, 2004, '1.3 m Warsaw University Telescope', 'Transit'])"
      ]
     },
     "execution_count": 40,
     "metadata": {},
     "output_type": "execute_result"
    }
   ],
   "source": [
    "list7[0].values()"
   ]
  },
  {
   "cell_type": "code",
   "execution_count": 41,
   "id": "07c45045-f4e9-4a8a-bf30-6d18117260a4",
   "metadata": {},
   "outputs": [
    {
     "data": {
      "text/plain": [
       "dict_items([('pl_name', 'OGLE-TR-10 b'), ('hostname', 'OGLE-TR-10'), ('pl_letter', 'b'), ('pl_bmasse', 197.046), ('pl_bmassj', 0.62), ('pl_rade', 14.011), ('pl_radj', 1.25), ('pl_orbper', 3.101278), ('pl_dens', 0.4), ('pl_trandur', None), ('pl_ratror', None), ('sy_snum', 1), ('sy_pnum', 1), ('sy_mnum', 0), ('st_mass', 1.14), ('st_lum', 0.188), ('st_age', None), ('st_dens', None), ('sy_dist', 1344.97), ('disc_year', 2004), ('disc_telescope', '1.3 m Warsaw University Telescope'), ('discoverymethod', 'Transit')])"
      ]
     },
     "execution_count": 41,
     "metadata": {},
     "output_type": "execute_result"
    }
   ],
   "source": [
    "(list7[0]).items()"
   ]
  },
  {
   "cell_type": "code",
   "execution_count": 42,
   "id": "c68d31d1-ea11-4238-84f6-46325beffa32",
   "metadata": {},
   "outputs": [
    {
     "data": {
      "text/plain": [
       "{'pl_name': 'OGLE-TR-10 b',\n",
       " 'hostname': 'OGLE-TR-10',\n",
       " 'pl_letter': 'b',\n",
       " 'pl_bmasse': 197.046,\n",
       " 'pl_bmassj': 0.62,\n",
       " 'pl_rade': 14.011,\n",
       " 'pl_radj': 1.25,\n",
       " 'pl_orbper': 3.101278,\n",
       " 'pl_dens': 0.4,\n",
       " 'pl_trandur': None,\n",
       " 'pl_ratror': None,\n",
       " 'sy_snum': 1,\n",
       " 'sy_pnum': 1,\n",
       " 'sy_mnum': 0,\n",
       " 'st_mass': 1.14,\n",
       " 'st_lum': 0.188,\n",
       " 'st_age': None,\n",
       " 'st_dens': None,\n",
       " 'sy_dist': 1344.97,\n",
       " 'disc_year': 2004,\n",
       " 'disc_telescope': '1.3 m Warsaw University Telescope',\n",
       " 'discoverymethod': 'Transit'}"
      ]
     },
     "execution_count": 42,
     "metadata": {},
     "output_type": "execute_result"
    }
   ],
   "source": [
    "list_of_dict = [\n",
    "    {\"course\": \"DBMS\", \"price\": 1500},\n",
    "    {\"course\": \"Python\", \"price\": 2500},\n",
    "    {\"course\": \"Java\", \"price\": 2500},\n",
    "]\n",
    "dict_7_0 = list7[0]\n",
    "dict_7_0"
   ]
  },
  {
   "cell_type": "code",
   "execution_count": 43,
   "id": "3581fc41-0233-48fe-8a0a-e6e26f4571c1",
   "metadata": {},
   "outputs": [
    {
     "data": {
      "text/plain": [
       "'OGLE-TR-10 b'"
      ]
     },
     "execution_count": 43,
     "metadata": {},
     "output_type": "execute_result"
    }
   ],
   "source": [
    "dict_7_0['pl_name']"
   ]
  },
  {
   "cell_type": "code",
   "execution_count": 44,
   "id": "db430ee1-5c34-4b23-86a6-f847c3936f71",
   "metadata": {},
   "outputs": [
    {
     "name": "stdout",
     "output_type": "stream",
     "text": [
      "106\n",
      "170\n",
      "386\n",
      "180\n",
      "141\n",
      "134\n",
      "85\n",
      "76\n",
      "57\n",
      "4232\n"
     ]
    }
   ],
   "source": [
    "#nombre de planete par distance\n",
    "y10=y20=y30=y40=y50=y60=y70=y80=y90=y100=0\n",
    "for planete in list7:\n",
    "    #print(planete['pl_name'])\n",
    "    if planete['sy_dist'] is None: \n",
    "        pass\n",
    "    else:\n",
    "        if planete['sy_dist'] < 10.00:\n",
    "            #print(planete['pl_name'])\n",
    "            y10+=1\n",
    "        elif planete['sy_dist'] >= 10.00 and planete['sy_dist'] < 20.00:\n",
    "            #print(planete['pl_name'])\n",
    "            y20+=1\n",
    "        elif (planete['sy_dist'] >= 20.00) and (planete['sy_dist']) < 30.00:\n",
    "            #print(planete['pl_name'])\n",
    "            y30+=1\n",
    "        elif (planete['sy_dist'] >= 30.00) and (planete['sy_dist']) < 40.00:\n",
    "            #print(planete['pl_name'])\n",
    "            y30+=1\n",
    "        elif (planete['sy_dist'] >= 40.00) and (planete['sy_dist']) < 50.00:\n",
    "            #print(planete['pl_name'])\n",
    "            y40+=1\n",
    "        elif (planete['sy_dist'] >= 50.00) and (planete['sy_dist']) < 60.00:\n",
    "            #print(planete['pl_name'])\n",
    "            y50+=1\n",
    "        elif (planete['sy_dist'] >= 60.00) and (planete['sy_dist']) < 70.00:\n",
    "            #print(planete['pl_name'])\n",
    "            y60+=1\n",
    "        elif (planete['sy_dist'] >= 70.00) and (planete['sy_dist']) < 80.00:\n",
    "            #print(planete['pl_name'])\n",
    "            y70+=1\n",
    "        elif (planete['sy_dist'] >= 80.00) and (planete['sy_dist']) < 90.00:\n",
    "            #print(planete['pl_name'])\n",
    "            y80+=1\n",
    "        elif (planete['sy_dist'] >= 90.00) and (planete['sy_dist']) < 100.00:\n",
    "            #print(planete['pl_name'])\n",
    "            y90+=1\n",
    "        \n",
    "        else:\n",
    "            y100+=1\n",
    "            \n",
    "print(y10)\n",
    "print(y20)\n",
    "print(y30)\n",
    "print(y40)\n",
    "print(y50)\n",
    "print(y60)\n",
    "print(y70)\n",
    "print(y80)\n",
    "print(y90)\n",
    "print(y100)\n",
    "            "
   ]
  },
  {
   "cell_type": "code",
   "execution_count": 45,
   "id": "a19b74f6-cf6a-4bd3-bd2f-d2f2acc178e4",
   "metadata": {},
   "outputs": [
    {
     "name": "stdout",
     "output_type": "stream",
     "text": [
      "110\n",
      "324\n",
      "365\n",
      "525\n",
      "233\n",
      "202\n",
      "323\n",
      "154\n",
      "1511\n",
      "2049\n"
     ]
    }
   ],
   "source": [
    "#nombre de planete par année\n",
    "y0=y1=y2=y3=y4=y5=y6=y7=y8=y9=0\n",
    "now = datetime.date.today()\n",
    "y0 = now.year\n",
    "for planete in list7:\n",
    "    #print(planete['pl_name'])\n",
    "    if planete['disc_year'] is None: \n",
    "        pass\n",
    "    else:\n",
    "        if planete['disc_year'] == y0 :\n",
    "            #print(planete['pl_name'])\n",
    "            y1+=1\n",
    "        elif planete['disc_year'] == y0  -1 :\n",
    "            #print(planete['pl_name'])\n",
    "            y2+=1\n",
    "        elif planete['disc_year'] == y0 - 2 :\n",
    "            #print(planete['pl_name'])\n",
    "            y3+=1\n",
    "        elif planete['disc_year'] == y0 - 3 :\n",
    "            #print(planete['pl_name'])\n",
    "            y4+=1\n",
    "        elif planete['disc_year'] == y0 - 4 :\n",
    "            #print(planete['pl_name'])\n",
    "            y5+=1\n",
    "        elif planete['disc_year'] == y0 - 5 :\n",
    "            #print(planete['pl_name'])\n",
    "            y6+=1\n",
    "        elif planete['disc_year'] == y0 - 6 :\n",
    "            #print(planete['pl_name'])\n",
    "            y7+=1\n",
    "        elif planete['disc_year'] == y0 - 7 :\n",
    "            #print(planete['pl_name'])\n",
    "            y8+=1\n",
    "        elif planete['disc_year'] == y0 - 8 :\n",
    "            #print(planete['pl_name'])\n",
    "            y9+=1\n",
    "        else:\n",
    "            y10+=1\n",
    "            \n",
    "print(y1)\n",
    "print(y2)\n",
    "print(y3)\n",
    "print(y4)\n",
    "print(y5)\n",
    "print(y6)\n",
    "print(y7)\n",
    "print(y8)\n",
    "print(y9)\n",
    "print(y10)"
   ]
  },
  {
   "cell_type": "code",
   "execution_count": null,
   "id": "4e02f31d-104b-4d0c-84f2-aafb9418ba2e",
   "metadata": {},
   "outputs": [],
   "source": []
  }
 ],
 "metadata": {
  "kernelspec": {
   "display_name": "Python 3 (ipykernel)",
   "language": "python",
   "name": "python3"
  },
  "language_info": {
   "codemirror_mode": {
    "name": "ipython",
    "version": 3
   },
   "file_extension": ".py",
   "mimetype": "text/x-python",
   "name": "python",
   "nbconvert_exporter": "python",
   "pygments_lexer": "ipython3",
   "version": "3.12.4"
  }
 },
 "nbformat": 4,
 "nbformat_minor": 5
}
